{
  "nbformat": 4,
  "nbformat_minor": 0,
  "metadata": {
    "kernelspec": {
      "language": "python",
      "display_name": "Python 3",
      "name": "python3"
    },
    "language_info": {
      "name": "python",
      "version": "3.7.10",
      "mimetype": "text/x-python",
      "codemirror_mode": {
        "name": "ipython",
        "version": 3
      },
      "pygments_lexer": "ipython3",
      "nbconvert_exporter": "python",
      "file_extension": ".py"
    },
    "colab": {
      "name": "Projet_MLE.ipynb",
      "provenance": [],
      "collapsed_sections": []
    }
  },
  "cells": [
    {
      "cell_type": "code",
      "metadata": {
        "id": "hKJo2uP2CKYR",
        "colab": {
          "base_uri": "https://localhost:8080/"
        },
        "outputId": "63625bce-015c-4ff8-d609-2bcef92bd9b5"
      },
      "source": [
        "import pandas as pd\n",
        "import numpy as np\n",
        "\n",
        "from google.colab import drive\n",
        "drive.mount('/Drive')\n",
        "df = pd.read_csv('/Drive/MyDrive/Projet MLE/DisneylandReviews.csv', encoding='cp1252')"
      ],
      "execution_count": null,
      "outputs": [
        {
          "output_type": "stream",
          "text": [
            "Drive already mounted at /Drive; to attempt to forcibly remount, call drive.mount(\"/Drive\", force_remount=True).\n"
          ],
          "name": "stdout"
        }
      ]
    },
    {
      "cell_type": "markdown",
      "metadata": {
        "id": "zMJB0VzfkWu8"
      },
      "source": [
        "SAVE STOPWORDS and TOKENIZER"
      ]
    },
    {
      "cell_type": "code",
      "metadata": {
        "colab": {
          "base_uri": "https://localhost:8080/",
          "height": 346
        },
        "id": "dAXSfGvxgeJE",
        "outputId": "90256712-ac3c-4e1d-9da1-f23ce9496cbb"
      },
      "source": [
        "import pickle\n",
        "import nltk\n",
        "!pip install nltk==3.5\n",
        "nltk.download('stopwords')\n",
        "from nltk.corpus import stopwords\n",
        "from nltk.tokenize import NLTKWordTokenizer\n",
        "\n",
        "stop_words = set(stopwords.words('english'))\n",
        "stop_words.update([\"'ve\", \"\", \"'ll\", \"'s\", \".\", \",\", \"?\", \"!\", \"(\", \")\", \"..\", \"'m\", \"n\", \"u\"])\n",
        "\n",
        "path='/Drive/My Drive/Projet MLE'\n",
        "f = open(f'{path}/stopwords.pkl',\"wb\")\n",
        "pickle.dump(stop_words,f)\n",
        "f.close()\n",
        "\n",
        "tokenizer = NLTKWordTokenizer()\n",
        "f = open(f'{path}/NLTKWordTokenizer.pkl',\"wb\")\n",
        "pickle.dump(tokenizer,f)\n",
        "f.close()"
      ],
      "execution_count": null,
      "outputs": [
        {
          "output_type": "stream",
          "text": [
            "Requirement already satisfied: nltk==3.5 in /usr/local/lib/python3.7/dist-packages (3.5)\n",
            "Requirement already satisfied: joblib in /usr/local/lib/python3.7/dist-packages (from nltk==3.5) (1.0.1)\n",
            "Requirement already satisfied: tqdm in /usr/local/lib/python3.7/dist-packages (from nltk==3.5) (4.41.1)\n",
            "Requirement already satisfied: regex in /usr/local/lib/python3.7/dist-packages (from nltk==3.5) (2019.12.20)\n",
            "Requirement already satisfied: click in /usr/local/lib/python3.7/dist-packages (from nltk==3.5) (7.1.2)\n"
          ],
          "name": "stdout"
        },
        {
          "output_type": "stream",
          "text": [
            "[nltk_data] Downloading package stopwords to /root/nltk_data...\n",
            "[nltk_data]   Package stopwords is already up-to-date!\n"
          ],
          "name": "stderr"
        },
        {
          "output_type": "error",
          "ename": "FileNotFoundError",
          "evalue": "ignored",
          "traceback": [
            "\u001b[0;31m---------------------------------------------------------------------------\u001b[0m",
            "\u001b[0;31mFileNotFoundError\u001b[0m                         Traceback (most recent call last)",
            "\u001b[0;32m<ipython-input-1-23c9c28fc7ea>\u001b[0m in \u001b[0;36m<module>\u001b[0;34m()\u001b[0m\n\u001b[1;32m     10\u001b[0m \u001b[0;34m\u001b[0m\u001b[0m\n\u001b[1;32m     11\u001b[0m \u001b[0mpath\u001b[0m\u001b[0;34m=\u001b[0m\u001b[0;34m'/Drive/My Drive/Projet MLE'\u001b[0m\u001b[0;34m\u001b[0m\u001b[0;34m\u001b[0m\u001b[0m\n\u001b[0;32m---> 12\u001b[0;31m \u001b[0mf\u001b[0m \u001b[0;34m=\u001b[0m \u001b[0mopen\u001b[0m\u001b[0;34m(\u001b[0m\u001b[0;34mf'{path}/stopwords.pkl'\u001b[0m\u001b[0;34m,\u001b[0m\u001b[0;34m\"wb\"\u001b[0m\u001b[0;34m)\u001b[0m\u001b[0;34m\u001b[0m\u001b[0;34m\u001b[0m\u001b[0m\n\u001b[0m\u001b[1;32m     13\u001b[0m \u001b[0mpickle\u001b[0m\u001b[0;34m.\u001b[0m\u001b[0mdump\u001b[0m\u001b[0;34m(\u001b[0m\u001b[0mstop_words\u001b[0m\u001b[0;34m,\u001b[0m\u001b[0mf\u001b[0m\u001b[0;34m)\u001b[0m\u001b[0;34m\u001b[0m\u001b[0;34m\u001b[0m\u001b[0m\n\u001b[1;32m     14\u001b[0m \u001b[0mf\u001b[0m\u001b[0;34m.\u001b[0m\u001b[0mclose\u001b[0m\u001b[0;34m(\u001b[0m\u001b[0;34m)\u001b[0m\u001b[0;34m\u001b[0m\u001b[0;34m\u001b[0m\u001b[0m\n",
            "\u001b[0;31mFileNotFoundError\u001b[0m: [Errno 2] No such file or directory: '/Drive/My Drive/Projet MLE/stopwords.pkl'"
          ]
        }
      ]
    },
    {
      "cell_type": "markdown",
      "metadata": {
        "id": "DWIxPbEdl7jO"
      },
      "source": [
        "LOAD STOPWORDS and TOKENIZER"
      ]
    },
    {
      "cell_type": "code",
      "metadata": {
        "colab": {
          "base_uri": "https://localhost:8080/"
        },
        "id": "eGvOABY5l97j",
        "outputId": "8e398e00-b04a-4e52-e9d0-532e31094739"
      },
      "source": [
        "!pip install nltk==3.5\n",
        "import nltk\n",
        "from nltk.corpus import stopwords\n",
        "import pickle\n",
        "from nltk.tokenize import NLTKWordTokenizer\n",
        "path='/Drive/My Drive/Projet MLE'\n",
        "\n",
        "with open(f'{path}/stopwords.pkl', 'rb') as handle:\n",
        "    pkl_stopwords = pickle.load(handle)\n",
        "with open(f'{path}/NLTKWordTokenizer.pkl', 'rb') as handle:\n",
        "    pkl_tokenizer = pickle.load(handle)"
      ],
      "execution_count": null,
      "outputs": [
        {
          "output_type": "stream",
          "text": [
            "Requirement already satisfied: nltk==3.5 in /usr/local/lib/python3.7/dist-packages (3.5)\n",
            "Requirement already satisfied: tqdm in /usr/local/lib/python3.7/dist-packages (from nltk==3.5) (4.41.1)\n",
            "Requirement already satisfied: joblib in /usr/local/lib/python3.7/dist-packages (from nltk==3.5) (1.0.1)\n",
            "Requirement already satisfied: click in /usr/local/lib/python3.7/dist-packages (from nltk==3.5) (7.1.2)\n",
            "Requirement already satisfied: regex in /usr/local/lib/python3.7/dist-packages (from nltk==3.5) (2019.12.20)\n"
          ],
          "name": "stdout"
        }
      ]
    },
    {
      "cell_type": "markdown",
      "metadata": {
        "id": "txw117j9FXav"
      },
      "source": [
        "# Projet MLE\n",
        "\n",
        "> Le but de ce projet est de mettre en production un modèle d'analyse de sentiment construit sur le jeu de données de commentaires sur [Disneyland](https://www.kaggle.com/arushchillar/disneyland-reviews)."
      ]
    },
    {
      "cell_type": "markdown",
      "metadata": {
        "id": "roKpU_oTMNFh"
      },
      "source": [
        "KAGGLE"
      ]
    },
    {
      "cell_type": "code",
      "metadata": {
        "execution": {
          "iopub.status.busy": "2021-07-21T13:00:40.549477Z",
          "iopub.execute_input": "2021-07-21T13:00:40.549825Z",
          "iopub.status.idle": "2021-07-21T13:00:40.709589Z",
          "shell.execute_reply.started": "2021-07-21T13:00:40.549796Z",
          "shell.execute_reply": "2021-07-21T13:00:40.708242Z"
        },
        "trusted": true,
        "id": "TKG-t8NIMNFh",
        "colab": {
          "base_uri": "https://localhost:8080/",
          "height": 337
        },
        "outputId": "0f64822a-c406-4bea-a050-7435ea0b0f86"
      },
      "source": [
        "import os\n",
        "for dirname, _, filenames in os.walk('/kaggle/input'):\n",
        "    for filename in filenames:\n",
        "        print(os.path.join(dirname, filename))\n",
        "df = pd.read_csv('/kaggle/input/demand-forecasting-kernels-only/test.csv', encoding='cp1252')"
      ],
      "execution_count": null,
      "outputs": [
        {
          "output_type": "error",
          "ename": "FileNotFoundError",
          "evalue": "ignored",
          "traceback": [
            "\u001b[0;31m---------------------------------------------------------------------------\u001b[0m",
            "\u001b[0;31mFileNotFoundError\u001b[0m                         Traceback (most recent call last)",
            "\u001b[0;32m<ipython-input-10-fa3c8745e14a>\u001b[0m in \u001b[0;36m<module>\u001b[0;34m()\u001b[0m\n\u001b[1;32m      3\u001b[0m     \u001b[0;32mfor\u001b[0m \u001b[0mfilename\u001b[0m \u001b[0;32min\u001b[0m \u001b[0mfilenames\u001b[0m\u001b[0;34m:\u001b[0m\u001b[0;34m\u001b[0m\u001b[0;34m\u001b[0m\u001b[0m\n\u001b[1;32m      4\u001b[0m         \u001b[0mprint\u001b[0m\u001b[0;34m(\u001b[0m\u001b[0mos\u001b[0m\u001b[0;34m.\u001b[0m\u001b[0mpath\u001b[0m\u001b[0;34m.\u001b[0m\u001b[0mjoin\u001b[0m\u001b[0;34m(\u001b[0m\u001b[0mdirname\u001b[0m\u001b[0;34m,\u001b[0m \u001b[0mfilename\u001b[0m\u001b[0;34m)\u001b[0m\u001b[0;34m)\u001b[0m\u001b[0;34m\u001b[0m\u001b[0;34m\u001b[0m\u001b[0m\n\u001b[0;32m----> 5\u001b[0;31m \u001b[0mdf\u001b[0m \u001b[0;34m=\u001b[0m \u001b[0mpd\u001b[0m\u001b[0;34m.\u001b[0m\u001b[0mread_csv\u001b[0m\u001b[0;34m(\u001b[0m\u001b[0;34m'/kaggle/input/demand-forecasting-kernels-only/test.csv'\u001b[0m\u001b[0;34m,\u001b[0m \u001b[0mencoding\u001b[0m\u001b[0;34m=\u001b[0m\u001b[0;34m'cp1252'\u001b[0m\u001b[0;34m)\u001b[0m\u001b[0;34m\u001b[0m\u001b[0;34m\u001b[0m\u001b[0m\n\u001b[0m",
            "\u001b[0;32m/usr/local/lib/python3.7/dist-packages/pandas/io/parsers.py\u001b[0m in \u001b[0;36mread_csv\u001b[0;34m(filepath_or_buffer, sep, delimiter, header, names, index_col, usecols, squeeze, prefix, mangle_dupe_cols, dtype, engine, converters, true_values, false_values, skipinitialspace, skiprows, skipfooter, nrows, na_values, keep_default_na, na_filter, verbose, skip_blank_lines, parse_dates, infer_datetime_format, keep_date_col, date_parser, dayfirst, cache_dates, iterator, chunksize, compression, thousands, decimal, lineterminator, quotechar, quoting, doublequote, escapechar, comment, encoding, dialect, error_bad_lines, warn_bad_lines, delim_whitespace, low_memory, memory_map, float_precision)\u001b[0m\n\u001b[1;32m    686\u001b[0m     )\n\u001b[1;32m    687\u001b[0m \u001b[0;34m\u001b[0m\u001b[0m\n\u001b[0;32m--> 688\u001b[0;31m     \u001b[0;32mreturn\u001b[0m \u001b[0m_read\u001b[0m\u001b[0;34m(\u001b[0m\u001b[0mfilepath_or_buffer\u001b[0m\u001b[0;34m,\u001b[0m \u001b[0mkwds\u001b[0m\u001b[0;34m)\u001b[0m\u001b[0;34m\u001b[0m\u001b[0;34m\u001b[0m\u001b[0m\n\u001b[0m\u001b[1;32m    689\u001b[0m \u001b[0;34m\u001b[0m\u001b[0m\n\u001b[1;32m    690\u001b[0m \u001b[0;34m\u001b[0m\u001b[0m\n",
            "\u001b[0;32m/usr/local/lib/python3.7/dist-packages/pandas/io/parsers.py\u001b[0m in \u001b[0;36m_read\u001b[0;34m(filepath_or_buffer, kwds)\u001b[0m\n\u001b[1;32m    452\u001b[0m \u001b[0;34m\u001b[0m\u001b[0m\n\u001b[1;32m    453\u001b[0m     \u001b[0;31m# Create the parser.\u001b[0m\u001b[0;34m\u001b[0m\u001b[0;34m\u001b[0m\u001b[0;34m\u001b[0m\u001b[0m\n\u001b[0;32m--> 454\u001b[0;31m     \u001b[0mparser\u001b[0m \u001b[0;34m=\u001b[0m \u001b[0mTextFileReader\u001b[0m\u001b[0;34m(\u001b[0m\u001b[0mfp_or_buf\u001b[0m\u001b[0;34m,\u001b[0m \u001b[0;34m**\u001b[0m\u001b[0mkwds\u001b[0m\u001b[0;34m)\u001b[0m\u001b[0;34m\u001b[0m\u001b[0;34m\u001b[0m\u001b[0m\n\u001b[0m\u001b[1;32m    455\u001b[0m \u001b[0;34m\u001b[0m\u001b[0m\n\u001b[1;32m    456\u001b[0m     \u001b[0;32mif\u001b[0m \u001b[0mchunksize\u001b[0m \u001b[0;32mor\u001b[0m \u001b[0miterator\u001b[0m\u001b[0;34m:\u001b[0m\u001b[0;34m\u001b[0m\u001b[0;34m\u001b[0m\u001b[0m\n",
            "\u001b[0;32m/usr/local/lib/python3.7/dist-packages/pandas/io/parsers.py\u001b[0m in \u001b[0;36m__init__\u001b[0;34m(self, f, engine, **kwds)\u001b[0m\n\u001b[1;32m    946\u001b[0m             \u001b[0mself\u001b[0m\u001b[0;34m.\u001b[0m\u001b[0moptions\u001b[0m\u001b[0;34m[\u001b[0m\u001b[0;34m\"has_index_names\"\u001b[0m\u001b[0;34m]\u001b[0m \u001b[0;34m=\u001b[0m \u001b[0mkwds\u001b[0m\u001b[0;34m[\u001b[0m\u001b[0;34m\"has_index_names\"\u001b[0m\u001b[0;34m]\u001b[0m\u001b[0;34m\u001b[0m\u001b[0;34m\u001b[0m\u001b[0m\n\u001b[1;32m    947\u001b[0m \u001b[0;34m\u001b[0m\u001b[0m\n\u001b[0;32m--> 948\u001b[0;31m         \u001b[0mself\u001b[0m\u001b[0;34m.\u001b[0m\u001b[0m_make_engine\u001b[0m\u001b[0;34m(\u001b[0m\u001b[0mself\u001b[0m\u001b[0;34m.\u001b[0m\u001b[0mengine\u001b[0m\u001b[0;34m)\u001b[0m\u001b[0;34m\u001b[0m\u001b[0;34m\u001b[0m\u001b[0m\n\u001b[0m\u001b[1;32m    949\u001b[0m \u001b[0;34m\u001b[0m\u001b[0m\n\u001b[1;32m    950\u001b[0m     \u001b[0;32mdef\u001b[0m \u001b[0mclose\u001b[0m\u001b[0;34m(\u001b[0m\u001b[0mself\u001b[0m\u001b[0;34m)\u001b[0m\u001b[0;34m:\u001b[0m\u001b[0;34m\u001b[0m\u001b[0;34m\u001b[0m\u001b[0m\n",
            "\u001b[0;32m/usr/local/lib/python3.7/dist-packages/pandas/io/parsers.py\u001b[0m in \u001b[0;36m_make_engine\u001b[0;34m(self, engine)\u001b[0m\n\u001b[1;32m   1178\u001b[0m     \u001b[0;32mdef\u001b[0m \u001b[0m_make_engine\u001b[0m\u001b[0;34m(\u001b[0m\u001b[0mself\u001b[0m\u001b[0;34m,\u001b[0m \u001b[0mengine\u001b[0m\u001b[0;34m=\u001b[0m\u001b[0;34m\"c\"\u001b[0m\u001b[0;34m)\u001b[0m\u001b[0;34m:\u001b[0m\u001b[0;34m\u001b[0m\u001b[0;34m\u001b[0m\u001b[0m\n\u001b[1;32m   1179\u001b[0m         \u001b[0;32mif\u001b[0m \u001b[0mengine\u001b[0m \u001b[0;34m==\u001b[0m \u001b[0;34m\"c\"\u001b[0m\u001b[0;34m:\u001b[0m\u001b[0;34m\u001b[0m\u001b[0;34m\u001b[0m\u001b[0m\n\u001b[0;32m-> 1180\u001b[0;31m             \u001b[0mself\u001b[0m\u001b[0;34m.\u001b[0m\u001b[0m_engine\u001b[0m \u001b[0;34m=\u001b[0m \u001b[0mCParserWrapper\u001b[0m\u001b[0;34m(\u001b[0m\u001b[0mself\u001b[0m\u001b[0;34m.\u001b[0m\u001b[0mf\u001b[0m\u001b[0;34m,\u001b[0m \u001b[0;34m**\u001b[0m\u001b[0mself\u001b[0m\u001b[0;34m.\u001b[0m\u001b[0moptions\u001b[0m\u001b[0;34m)\u001b[0m\u001b[0;34m\u001b[0m\u001b[0;34m\u001b[0m\u001b[0m\n\u001b[0m\u001b[1;32m   1181\u001b[0m         \u001b[0;32melse\u001b[0m\u001b[0;34m:\u001b[0m\u001b[0;34m\u001b[0m\u001b[0;34m\u001b[0m\u001b[0m\n\u001b[1;32m   1182\u001b[0m             \u001b[0;32mif\u001b[0m \u001b[0mengine\u001b[0m \u001b[0;34m==\u001b[0m \u001b[0;34m\"python\"\u001b[0m\u001b[0;34m:\u001b[0m\u001b[0;34m\u001b[0m\u001b[0;34m\u001b[0m\u001b[0m\n",
            "\u001b[0;32m/usr/local/lib/python3.7/dist-packages/pandas/io/parsers.py\u001b[0m in \u001b[0;36m__init__\u001b[0;34m(self, src, **kwds)\u001b[0m\n\u001b[1;32m   1991\u001b[0m         \u001b[0;32mif\u001b[0m \u001b[0mkwds\u001b[0m\u001b[0;34m.\u001b[0m\u001b[0mget\u001b[0m\u001b[0;34m(\u001b[0m\u001b[0;34m\"compression\"\u001b[0m\u001b[0;34m)\u001b[0m \u001b[0;32mis\u001b[0m \u001b[0;32mNone\u001b[0m \u001b[0;32mand\u001b[0m \u001b[0mencoding\u001b[0m\u001b[0;34m:\u001b[0m\u001b[0;34m\u001b[0m\u001b[0;34m\u001b[0m\u001b[0m\n\u001b[1;32m   1992\u001b[0m             \u001b[0;32mif\u001b[0m \u001b[0misinstance\u001b[0m\u001b[0;34m(\u001b[0m\u001b[0msrc\u001b[0m\u001b[0;34m,\u001b[0m \u001b[0mstr\u001b[0m\u001b[0;34m)\u001b[0m\u001b[0;34m:\u001b[0m\u001b[0;34m\u001b[0m\u001b[0;34m\u001b[0m\u001b[0m\n\u001b[0;32m-> 1993\u001b[0;31m                 \u001b[0msrc\u001b[0m \u001b[0;34m=\u001b[0m \u001b[0mopen\u001b[0m\u001b[0;34m(\u001b[0m\u001b[0msrc\u001b[0m\u001b[0;34m,\u001b[0m \u001b[0;34m\"rb\"\u001b[0m\u001b[0;34m)\u001b[0m\u001b[0;34m\u001b[0m\u001b[0;34m\u001b[0m\u001b[0m\n\u001b[0m\u001b[1;32m   1994\u001b[0m                 \u001b[0mself\u001b[0m\u001b[0;34m.\u001b[0m\u001b[0mhandles\u001b[0m\u001b[0;34m.\u001b[0m\u001b[0mappend\u001b[0m\u001b[0;34m(\u001b[0m\u001b[0msrc\u001b[0m\u001b[0;34m)\u001b[0m\u001b[0;34m\u001b[0m\u001b[0;34m\u001b[0m\u001b[0m\n\u001b[1;32m   1995\u001b[0m \u001b[0;34m\u001b[0m\u001b[0m\n",
            "\u001b[0;31mFileNotFoundError\u001b[0m: [Errno 2] No such file or directory: '/kaggle/input/demand-forecasting-kernels-only/test.csv'"
          ]
        }
      ]
    },
    {
      "cell_type": "code",
      "metadata": {
        "id": "iCKUV-DMFXa1",
        "execution": {
          "iopub.status.busy": "2021-07-21T13:00:48.618988Z",
          "iopub.execute_input": "2021-07-21T13:00:48.619534Z",
          "iopub.status.idle": "2021-07-21T13:00:48.650611Z",
          "shell.execute_reply.started": "2021-07-21T13:00:48.619499Z",
          "shell.execute_reply": "2021-07-21T13:00:48.649592Z"
        },
        "trusted": true,
        "colab": {
          "base_uri": "https://localhost:8080/",
          "height": 203
        },
        "outputId": "5c22f417-dd69-41f6-a70a-5e7b021d6f6f"
      },
      "source": [
        "df.head()"
      ],
      "execution_count": null,
      "outputs": [
        {
          "output_type": "execute_result",
          "data": {
            "text/html": [
              "<div>\n",
              "<style scoped>\n",
              "    .dataframe tbody tr th:only-of-type {\n",
              "        vertical-align: middle;\n",
              "    }\n",
              "\n",
              "    .dataframe tbody tr th {\n",
              "        vertical-align: top;\n",
              "    }\n",
              "\n",
              "    .dataframe thead th {\n",
              "        text-align: right;\n",
              "    }\n",
              "</style>\n",
              "<table border=\"1\" class=\"dataframe\">\n",
              "  <thead>\n",
              "    <tr style=\"text-align: right;\">\n",
              "      <th></th>\n",
              "      <th>Review_ID</th>\n",
              "      <th>Rating</th>\n",
              "      <th>Year_Month</th>\n",
              "      <th>Reviewer_Location</th>\n",
              "      <th>Review_Text</th>\n",
              "      <th>Branch</th>\n",
              "    </tr>\n",
              "  </thead>\n",
              "  <tbody>\n",
              "    <tr>\n",
              "      <th>0</th>\n",
              "      <td>670772142</td>\n",
              "      <td>4</td>\n",
              "      <td>2019-4</td>\n",
              "      <td>Australia</td>\n",
              "      <td>If you've ever been to Disneyland anywhere you...</td>\n",
              "      <td>Disneyland_HongKong</td>\n",
              "    </tr>\n",
              "    <tr>\n",
              "      <th>1</th>\n",
              "      <td>670682799</td>\n",
              "      <td>4</td>\n",
              "      <td>2019-5</td>\n",
              "      <td>Philippines</td>\n",
              "      <td>Its been a while since d last time we visit HK...</td>\n",
              "      <td>Disneyland_HongKong</td>\n",
              "    </tr>\n",
              "    <tr>\n",
              "      <th>2</th>\n",
              "      <td>670623270</td>\n",
              "      <td>4</td>\n",
              "      <td>2019-4</td>\n",
              "      <td>United Arab Emirates</td>\n",
              "      <td>Thanks God it wasn   t too hot or too humid wh...</td>\n",
              "      <td>Disneyland_HongKong</td>\n",
              "    </tr>\n",
              "    <tr>\n",
              "      <th>3</th>\n",
              "      <td>670607911</td>\n",
              "      <td>4</td>\n",
              "      <td>2019-4</td>\n",
              "      <td>Australia</td>\n",
              "      <td>HK Disneyland is a great compact park. Unfortu...</td>\n",
              "      <td>Disneyland_HongKong</td>\n",
              "    </tr>\n",
              "    <tr>\n",
              "      <th>4</th>\n",
              "      <td>670607296</td>\n",
              "      <td>4</td>\n",
              "      <td>2019-4</td>\n",
              "      <td>United Kingdom</td>\n",
              "      <td>the location is not in the city, took around 1...</td>\n",
              "      <td>Disneyland_HongKong</td>\n",
              "    </tr>\n",
              "  </tbody>\n",
              "</table>\n",
              "</div>"
            ],
            "text/plain": [
              "   Review_ID  ...               Branch\n",
              "0  670772142  ...  Disneyland_HongKong\n",
              "1  670682799  ...  Disneyland_HongKong\n",
              "2  670623270  ...  Disneyland_HongKong\n",
              "3  670607911  ...  Disneyland_HongKong\n",
              "4  670607296  ...  Disneyland_HongKong\n",
              "\n",
              "[5 rows x 6 columns]"
            ]
          },
          "metadata": {
            "tags": []
          },
          "execution_count": 3
        }
      ]
    },
    {
      "cell_type": "code",
      "metadata": {
        "id": "vLPtJg-gFXa2",
        "colab": {
          "base_uri": "https://localhost:8080/"
        },
        "outputId": "e3d6f9f6-e0a0-406c-e7f6-1865fa6f6533"
      },
      "source": [
        "df.info()"
      ],
      "execution_count": null,
      "outputs": [
        {
          "output_type": "stream",
          "text": [
            "<class 'pandas.core.frame.DataFrame'>\n",
            "RangeIndex: 42656 entries, 0 to 42655\n",
            "Data columns (total 6 columns):\n",
            " #   Column             Non-Null Count  Dtype \n",
            "---  ------             --------------  ----- \n",
            " 0   Review_ID          42656 non-null  int64 \n",
            " 1   Rating             42656 non-null  int64 \n",
            " 2   Year_Month         42656 non-null  object\n",
            " 3   Reviewer_Location  42656 non-null  object\n",
            " 4   Review_Text        42656 non-null  object\n",
            " 5   Branch             42656 non-null  object\n",
            "dtypes: int64(2), object(4)\n",
            "memory usage: 2.0+ MB\n"
          ],
          "name": "stdout"
        }
      ]
    },
    {
      "cell_type": "code",
      "metadata": {
        "id": "KRjpIkSmFXa3",
        "colab": {
          "base_uri": "https://localhost:8080/"
        },
        "outputId": "ccd88ad3-2657-428d-8027-7d50e6676ff8"
      },
      "source": [
        "df['Rating'].unique()"
      ],
      "execution_count": null,
      "outputs": [
        {
          "output_type": "execute_result",
          "data": {
            "text/plain": [
              "array([4, 3, 5, 2, 1])"
            ]
          },
          "metadata": {
            "tags": []
          },
          "execution_count": 6
        }
      ]
    },
    {
      "cell_type": "markdown",
      "metadata": {
        "id": "r-tXV6HPFXa3"
      },
      "source": [
        "# Préparation des données"
      ]
    },
    {
      "cell_type": "code",
      "metadata": {
        "id": "qNVE9DA-FXa4"
      },
      "source": [
        "df = df.drop(['Review_ID', 'Year_Month', 'Reviewer_Location'], axis=1)\n",
        "df_original = df.copy(deep=True)"
      ],
      "execution_count": null,
      "outputs": []
    },
    {
      "cell_type": "code",
      "metadata": {
        "id": "4H3B7pWLEsjF",
        "colab": {
          "base_uri": "https://localhost:8080/",
          "height": 203
        },
        "outputId": "5e9e2abb-851f-43f6-fbd6-c3a930efb4ca"
      },
      "source": [
        "df.head(5)"
      ],
      "execution_count": null,
      "outputs": [
        {
          "output_type": "execute_result",
          "data": {
            "text/html": [
              "<div>\n",
              "<style scoped>\n",
              "    .dataframe tbody tr th:only-of-type {\n",
              "        vertical-align: middle;\n",
              "    }\n",
              "\n",
              "    .dataframe tbody tr th {\n",
              "        vertical-align: top;\n",
              "    }\n",
              "\n",
              "    .dataframe thead th {\n",
              "        text-align: right;\n",
              "    }\n",
              "</style>\n",
              "<table border=\"1\" class=\"dataframe\">\n",
              "  <thead>\n",
              "    <tr style=\"text-align: right;\">\n",
              "      <th></th>\n",
              "      <th>Rating</th>\n",
              "      <th>Review_Text</th>\n",
              "      <th>Branch</th>\n",
              "    </tr>\n",
              "  </thead>\n",
              "  <tbody>\n",
              "    <tr>\n",
              "      <th>0</th>\n",
              "      <td>4</td>\n",
              "      <td>If you've ever been to Disneyland anywhere you...</td>\n",
              "      <td>Disneyland_HongKong</td>\n",
              "    </tr>\n",
              "    <tr>\n",
              "      <th>1</th>\n",
              "      <td>4</td>\n",
              "      <td>Its been a while since d last time we visit HK...</td>\n",
              "      <td>Disneyland_HongKong</td>\n",
              "    </tr>\n",
              "    <tr>\n",
              "      <th>2</th>\n",
              "      <td>4</td>\n",
              "      <td>Thanks God it wasn   t too hot or too humid wh...</td>\n",
              "      <td>Disneyland_HongKong</td>\n",
              "    </tr>\n",
              "    <tr>\n",
              "      <th>3</th>\n",
              "      <td>4</td>\n",
              "      <td>HK Disneyland is a great compact park. Unfortu...</td>\n",
              "      <td>Disneyland_HongKong</td>\n",
              "    </tr>\n",
              "    <tr>\n",
              "      <th>4</th>\n",
              "      <td>4</td>\n",
              "      <td>the location is not in the city, took around 1...</td>\n",
              "      <td>Disneyland_HongKong</td>\n",
              "    </tr>\n",
              "  </tbody>\n",
              "</table>\n",
              "</div>"
            ],
            "text/plain": [
              "   Rating  ...               Branch\n",
              "0       4  ...  Disneyland_HongKong\n",
              "1       4  ...  Disneyland_HongKong\n",
              "2       4  ...  Disneyland_HongKong\n",
              "3       4  ...  Disneyland_HongKong\n",
              "4       4  ...  Disneyland_HongKong\n",
              "\n",
              "[5 rows x 3 columns]"
            ]
          },
          "metadata": {
            "tags": []
          },
          "execution_count": 6
        }
      ]
    },
    {
      "cell_type": "code",
      "metadata": {
        "id": "iDjeegWbFXa4",
        "colab": {
          "base_uri": "https://localhost:8080/",
          "height": 203
        },
        "outputId": "526d7c92-2419-4cf1-a3f7-74ee275de478"
      },
      "source": [
        "\"\"\"\n",
        "import nltk\n",
        "\n",
        "nltk.download('stopwords')\n",
        "from nltk.corpus import stopwords\n",
        "from nltk.tokenize import NLTKWordTokenizer\n",
        "\"\"\"\n",
        "def preprocess_text(text):\n",
        "    #stop_words = set(stopwords.words('english'))\n",
        "    #stop_words.update([\"'ve\", \"\", \"'ll\", \"'s\", \".\", \",\", \"?\", \"!\", \"(\", \")\", \"..\", \"'m\", \"n\", \"u\"])\n",
        "    \n",
        "    #tokenizer = NLTKWordTokenizer()\n",
        "    \n",
        "    text = text.lower()\n",
        "    \n",
        "    tokens = pkl_tokenizer.tokenize(text)\n",
        "    tokens = [t for t in tokens if t not in pkl_stopwords]\n",
        "    \n",
        "    return ' '.join(tokens)\n",
        "\n",
        "\n",
        "df_original = df.copy(deep=True)\n",
        "df['Review_Text'] = df['Review_Text'].apply(preprocess_text)\n",
        "df.head()"
      ],
      "execution_count": null,
      "outputs": [
        {
          "output_type": "execute_result",
          "data": {
            "text/html": [
              "<div>\n",
              "<style scoped>\n",
              "    .dataframe tbody tr th:only-of-type {\n",
              "        vertical-align: middle;\n",
              "    }\n",
              "\n",
              "    .dataframe tbody tr th {\n",
              "        vertical-align: top;\n",
              "    }\n",
              "\n",
              "    .dataframe thead th {\n",
              "        text-align: right;\n",
              "    }\n",
              "</style>\n",
              "<table border=\"1\" class=\"dataframe\">\n",
              "  <thead>\n",
              "    <tr style=\"text-align: right;\">\n",
              "      <th></th>\n",
              "      <th>Rating</th>\n",
              "      <th>Review_Text</th>\n",
              "      <th>Branch</th>\n",
              "    </tr>\n",
              "  </thead>\n",
              "  <tbody>\n",
              "    <tr>\n",
              "      <th>0</th>\n",
              "      <td>4</td>\n",
              "      <td>ever disneyland anywhere find disneyland hong ...</td>\n",
              "      <td>Disneyland_HongKong</td>\n",
              "    </tr>\n",
              "    <tr>\n",
              "      <th>1</th>\n",
              "      <td>4</td>\n",
              "      <td>since last time visit hk disneyland yet time s...</td>\n",
              "      <td>Disneyland_HongKong</td>\n",
              "    </tr>\n",
              "    <tr>\n",
              "      <th>2</th>\n",
              "      <td>4</td>\n",
              "      <td>thanks god hot humid visiting park otherwise w...</td>\n",
              "      <td>Disneyland_HongKong</td>\n",
              "    </tr>\n",
              "    <tr>\n",
              "      <th>3</th>\n",
              "      <td>4</td>\n",
              "      <td>hk disneyland great compact park. unfortunatel...</td>\n",
              "      <td>Disneyland_HongKong</td>\n",
              "    </tr>\n",
              "    <tr>\n",
              "      <th>4</th>\n",
              "      <td>4</td>\n",
              "      <td>location city took around 1 hour kowlon kids l...</td>\n",
              "      <td>Disneyland_HongKong</td>\n",
              "    </tr>\n",
              "  </tbody>\n",
              "</table>\n",
              "</div>"
            ],
            "text/plain": [
              "   Rating  ...               Branch\n",
              "0       4  ...  Disneyland_HongKong\n",
              "1       4  ...  Disneyland_HongKong\n",
              "2       4  ...  Disneyland_HongKong\n",
              "3       4  ...  Disneyland_HongKong\n",
              "4       4  ...  Disneyland_HongKong\n",
              "\n",
              "[5 rows x 3 columns]"
            ]
          },
          "metadata": {
            "tags": []
          },
          "execution_count": 23
        }
      ]
    },
    {
      "cell_type": "code",
      "metadata": {
        "id": "vyNmUHajFXa5",
        "colab": {
          "base_uri": "https://localhost:8080/",
          "height": 203
        },
        "outputId": "240f652e-f73c-48e0-fce2-92fa39dfb852"
      },
      "source": [
        "df_original.head()"
      ],
      "execution_count": null,
      "outputs": [
        {
          "output_type": "execute_result",
          "data": {
            "text/html": [
              "<div>\n",
              "<style scoped>\n",
              "    .dataframe tbody tr th:only-of-type {\n",
              "        vertical-align: middle;\n",
              "    }\n",
              "\n",
              "    .dataframe tbody tr th {\n",
              "        vertical-align: top;\n",
              "    }\n",
              "\n",
              "    .dataframe thead th {\n",
              "        text-align: right;\n",
              "    }\n",
              "</style>\n",
              "<table border=\"1\" class=\"dataframe\">\n",
              "  <thead>\n",
              "    <tr style=\"text-align: right;\">\n",
              "      <th></th>\n",
              "      <th>Rating</th>\n",
              "      <th>Review_Text</th>\n",
              "      <th>Branch</th>\n",
              "    </tr>\n",
              "  </thead>\n",
              "  <tbody>\n",
              "    <tr>\n",
              "      <th>0</th>\n",
              "      <td>4</td>\n",
              "      <td>If you've ever been to Disneyland anywhere you...</td>\n",
              "      <td>Disneyland_HongKong</td>\n",
              "    </tr>\n",
              "    <tr>\n",
              "      <th>1</th>\n",
              "      <td>4</td>\n",
              "      <td>Its been a while since d last time we visit HK...</td>\n",
              "      <td>Disneyland_HongKong</td>\n",
              "    </tr>\n",
              "    <tr>\n",
              "      <th>2</th>\n",
              "      <td>4</td>\n",
              "      <td>Thanks God it wasn   t too hot or too humid wh...</td>\n",
              "      <td>Disneyland_HongKong</td>\n",
              "    </tr>\n",
              "    <tr>\n",
              "      <th>3</th>\n",
              "      <td>4</td>\n",
              "      <td>HK Disneyland is a great compact park. Unfortu...</td>\n",
              "      <td>Disneyland_HongKong</td>\n",
              "    </tr>\n",
              "    <tr>\n",
              "      <th>4</th>\n",
              "      <td>4</td>\n",
              "      <td>the location is not in the city, took around 1...</td>\n",
              "      <td>Disneyland_HongKong</td>\n",
              "    </tr>\n",
              "  </tbody>\n",
              "</table>\n",
              "</div>"
            ],
            "text/plain": [
              "   Rating  ...               Branch\n",
              "0       4  ...  Disneyland_HongKong\n",
              "1       4  ...  Disneyland_HongKong\n",
              "2       4  ...  Disneyland_HongKong\n",
              "3       4  ...  Disneyland_HongKong\n",
              "4       4  ...  Disneyland_HongKong\n",
              "\n",
              "[5 rows x 3 columns]"
            ]
          },
          "metadata": {
            "tags": []
          },
          "execution_count": 8
        }
      ]
    },
    {
      "cell_type": "markdown",
      "metadata": {
        "id": "DAHRlYGhFXa5"
      },
      "source": [
        "# Premier Modele\n",
        "\n",
        "> Le premier modèle consiste à considérer toutes les branches ensemble."
      ]
    },
    {
      "cell_type": "code",
      "metadata": {
        "id": "Lmj3LWYFFXa6",
        "colab": {
          "base_uri": "https://localhost:8080/",
          "height": 203
        },
        "outputId": "dd58c542-4f8f-44b1-b5d3-ca21993de2b4"
      },
      "source": [
        "df1 = df.drop(['Branch'], axis=1)\n",
        "df1.head()\n"
      ],
      "execution_count": null,
      "outputs": [
        {
          "output_type": "execute_result",
          "data": {
            "text/html": [
              "<div>\n",
              "<style scoped>\n",
              "    .dataframe tbody tr th:only-of-type {\n",
              "        vertical-align: middle;\n",
              "    }\n",
              "\n",
              "    .dataframe tbody tr th {\n",
              "        vertical-align: top;\n",
              "    }\n",
              "\n",
              "    .dataframe thead th {\n",
              "        text-align: right;\n",
              "    }\n",
              "</style>\n",
              "<table border=\"1\" class=\"dataframe\">\n",
              "  <thead>\n",
              "    <tr style=\"text-align: right;\">\n",
              "      <th></th>\n",
              "      <th>Rating</th>\n",
              "      <th>Review_Text</th>\n",
              "    </tr>\n",
              "  </thead>\n",
              "  <tbody>\n",
              "    <tr>\n",
              "      <th>0</th>\n",
              "      <td>4</td>\n",
              "      <td>ever disneyland anywhere find disneyland hong ...</td>\n",
              "    </tr>\n",
              "    <tr>\n",
              "      <th>1</th>\n",
              "      <td>4</td>\n",
              "      <td>since last time visit hk disneyland yet time s...</td>\n",
              "    </tr>\n",
              "    <tr>\n",
              "      <th>2</th>\n",
              "      <td>4</td>\n",
              "      <td>thanks god hot humid visiting park otherwise w...</td>\n",
              "    </tr>\n",
              "    <tr>\n",
              "      <th>3</th>\n",
              "      <td>4</td>\n",
              "      <td>hk disneyland great compact park. unfortunatel...</td>\n",
              "    </tr>\n",
              "    <tr>\n",
              "      <th>4</th>\n",
              "      <td>4</td>\n",
              "      <td>location city took around 1 hour kowlon kids l...</td>\n",
              "    </tr>\n",
              "  </tbody>\n",
              "</table>\n",
              "</div>"
            ],
            "text/plain": [
              "   Rating                                        Review_Text\n",
              "0       4  ever disneyland anywhere find disneyland hong ...\n",
              "1       4  since last time visit hk disneyland yet time s...\n",
              "2       4  thanks god hot humid visiting park otherwise w...\n",
              "3       4  hk disneyland great compact park. unfortunatel...\n",
              "4       4  location city took around 1 hour kowlon kids l..."
            ]
          },
          "metadata": {
            "tags": []
          },
          "execution_count": 24
        }
      ]
    },
    {
      "cell_type": "code",
      "metadata": {
        "id": "tR6p3ilwFXa6"
      },
      "source": [
        "from sklearn.feature_extraction.text import CountVectorizer"
      ],
      "execution_count": null,
      "outputs": []
    },
    {
      "cell_type": "code",
      "metadata": {
        "id": "qHYV7zrjFXa6",
        "colab": {
          "base_uri": "https://localhost:8080/",
          "height": 35
        },
        "outputId": "19281a7c-9335-41df-d59d-6383cb1ed102"
      },
      "source": [
        "from sklearn.model_selection import train_test_split\n",
        "\n",
        "features = df['Review_Text']\n",
        "target = df['Rating']\n",
        "\n",
        "X_train, X_test, y_train, y_test = train_test_split(features, target, random_state=123)\n",
        "\n",
        "count_vectorizer_unique = CountVectorizer(max_features=2000)\n",
        "\n",
        "X_train_cv = count_vectorizer_unique.fit_transform(X_train)\n",
        "\"\"\"f = open(f'{path}/count_vectorizer1.pkl',\"wb\")\n",
        "pickle.dump(count_vectorizer_unique,f)\n",
        "f.close()\"\"\""
      ],
      "execution_count": null,
      "outputs": [
        {
          "output_type": "execute_result",
          "data": {
            "application/vnd.google.colaboratory.intrinsic+json": {
              "type": "string"
            },
            "text/plain": [
              "'f = open(f\\'{path}/count_vectorizer1.pkl\\',\"wb\")\\npickle.dump(count_vectorizer_unique,f)\\nf.close()'"
            ]
          },
          "metadata": {
            "tags": []
          },
          "execution_count": 26
        }
      ]
    },
    {
      "cell_type": "code",
      "metadata": {
        "id": "taaej4r18Sv8"
      },
      "source": [
        "with open(f'{path}/count_vectorizer1.pkl', 'rb') as handle:\n",
        "    pkl_count_vectorizer1 = pickle.load(handle)\n",
        "X_test_cv = pkl_count_vectorizer1.transform(X_test)"
      ],
      "execution_count": null,
      "outputs": []
    },
    {
      "cell_type": "code",
      "metadata": {
        "id": "vbQ2_uz6FXa7",
        "colab": {
          "base_uri": "https://localhost:8080/",
          "height": 170
        },
        "outputId": "59d4584d-5e1a-401d-e451-47f1b9b13e4c"
      },
      "source": [
        "from sklearn.linear_model import LogisticRegression\n",
        "from sklearn.ensemble import RandomForestClassifier\n",
        "from sklearn.tree import DecisionTreeClassifier\n",
        "\n",
        "# model_unique = RandomForestClassifier(max_depth=3, n_estimators=100)\n",
        "model_unique = LogisticRegression()\n",
        "# model_unique = DecisionTreeClassifier(max_depth=8)\n",
        "\n",
        "model_unique.fit(X_train_cv, y_train)\n",
        "\"\"\"f = open(f'{path}/model1.pkl',\"wb\")\n",
        "pickle.dump(model_unique,f)\n",
        "f.close()\"\"\"\n"
      ],
      "execution_count": null,
      "outputs": [
        {
          "output_type": "stream",
          "text": [
            "/usr/local/lib/python3.7/dist-packages/sklearn/linear_model/_logistic.py:940: ConvergenceWarning: lbfgs failed to converge (status=1):\n",
            "STOP: TOTAL NO. of ITERATIONS REACHED LIMIT.\n",
            "\n",
            "Increase the number of iterations (max_iter) or scale the data as shown in:\n",
            "    https://scikit-learn.org/stable/modules/preprocessing.html\n",
            "Please also refer to the documentation for alternative solver options:\n",
            "    https://scikit-learn.org/stable/modules/linear_model.html#logistic-regression\n",
            "  extra_warning_msg=_LOGISTIC_SOLVER_CONVERGENCE_MSG)\n"
          ],
          "name": "stderr"
        },
        {
          "output_type": "execute_result",
          "data": {
            "application/vnd.google.colaboratory.intrinsic+json": {
              "type": "string"
            },
            "text/plain": [
              "'f = open(f\\'{path}/model1.pkl\\',\"wb\")\\npickle.dump(model_unique,f)\\nf.close()'"
            ]
          },
          "metadata": {
            "tags": []
          },
          "execution_count": 28
        }
      ]
    },
    {
      "cell_type": "code",
      "metadata": {
        "id": "KqrH6bA2AIjZ"
      },
      "source": [
        "with open(f'{path}/model1.pkl', 'rb') as handle:\n",
        "    pkl_model1 = pickle.load(handle)\n",
        "pkl_model1.score(X_test_cv, y_test)\n",
        "ypred=pkl_model1.predict(X_test_cv)"
      ],
      "execution_count": null,
      "outputs": []
    },
    {
      "cell_type": "code",
      "metadata": {
        "colab": {
          "base_uri": "https://localhost:8080/"
        },
        "id": "CwH6DRuK7rUK",
        "outputId": "1eb3ef03-3bc6-4a17-9da8-c69b6e32465a"
      },
      "source": [
        "print(\"score:\",pkl_model1.score(X_test_cv, y_test))"
      ],
      "execution_count": null,
      "outputs": [
        {
          "output_type": "stream",
          "text": [
            "score: 0.6110277569392348\n"
          ],
          "name": "stdout"
        }
      ]
    },
    {
      "cell_type": "code",
      "metadata": {
        "colab": {
          "base_uri": "https://localhost:8080/"
        },
        "id": "BxlmPZUBz-6V",
        "outputId": "9ea1b455-d649-4514-cb41-e1e2257b0e98"
      },
      "source": [
        "X_test"
      ],
      "execution_count": null,
      "outputs": [
        {
          "output_type": "execute_result",
          "data": {
            "text/plain": [
              "9591     read much bad publicity expecting bad disneyla...\n",
              "40108    spent two days got round rides.worth checking ...\n",
              "2197     kids go crazy plenty restaurants & snack stall...\n",
              "23202    busy busy day long queues rides. fast passes a...\n",
              "37038    great time husband 3yr old daughter myself. bu...\n",
              "                               ...                        \n",
              "8982     second visit hong kong disneyland still holds ...\n",
              "1759     place beautiful rides good long queues.it may ...\n",
              "202      visit magical last. son always enjoys meeting ...\n",
              "22898    disney ... say amazing long time enthusiast mu...\n",
              "37873    husband finally chance attend disneyland paris...\n",
              "Name: Review_Text, Length: 10664, dtype: object"
            ]
          },
          "metadata": {
            "tags": []
          },
          "execution_count": 16
        }
      ]
    },
    {
      "cell_type": "code",
      "metadata": {
        "colab": {
          "base_uri": "https://localhost:8080/"
        },
        "id": "eHPVUdOihjnR",
        "outputId": "63ef93a5-bc9c-45a7-fabf-7ff446f0e9f1"
      },
      "source": [
        "X_test[np.logical_and(ypred==3, y_test==3) ]"
      ],
      "execution_count": null,
      "outputs": [
        {
          "output_type": "execute_result",
          "data": {
            "text/plain": [
              "9831     walt disney currently cryogenic chamber fire s...\n",
              "12357    think way exitced come disneyland. held expect...\n",
              "10227    first time la took kids disney. great time dis...\n",
              "13292    waited years go however disappointed need upda...\n",
              "42016    name eurodisney describes geographic location ...\n",
              "                               ...                        \n",
              "120      florida anaheim euro disney hong kong disney d...\n",
              "33417    bearing mind expensive leisure activity sooooo...\n",
              "9713     paid quite lot admission parking expected take...\n",
              "22660    disney parks orlando paris found one least att...\n",
              "1759     place beautiful rides good long queues.it may ...\n",
              "Name: Review_Text, Length: 433, dtype: object"
            ]
          },
          "metadata": {
            "tags": []
          },
          "execution_count": 17
        }
      ]
    },
    {
      "cell_type": "code",
      "metadata": {
        "colab": {
          "base_uri": "https://localhost:8080/"
        },
        "id": "RBtpz4xEzWle",
        "outputId": "193e29be-0b81-4aa2-ec91-42bd5332e0f2"
      },
      "source": [
        "df_original.iloc[9831]"
      ],
      "execution_count": null,
      "outputs": [
        {
          "output_type": "execute_result",
          "data": {
            "text/plain": [
              "Rating                                                         3\n",
              "Review_Text    if walt disney is currently in a cryogenic cha...\n",
              "Branch                                     Disneyland_California\n",
              "Name: 9831, dtype: object"
            ]
          },
          "metadata": {
            "tags": []
          },
          "execution_count": 18
        }
      ]
    },
    {
      "cell_type": "code",
      "metadata": {
        "colab": {
          "base_uri": "https://localhost:8080/",
          "height": 102
        },
        "id": "aYzEmov7gvQW",
        "outputId": "12f9a6da-b72a-492f-da63-5055b1fbe63c"
      },
      "source": [
        "df_original.iloc[9831]['Review_Text']"
      ],
      "execution_count": null,
      "outputs": [
        {
          "output_type": "execute_result",
          "data": {
            "application/vnd.google.colaboratory.intrinsic+json": {
              "type": "string"
            },
            "text/plain": [
              "'if walt disney is currently in a cryogenic chamber above the fire station in disneyland   s main street, he must be wanting to pull the plug. having been a fan and visitor of orlando   s walt disney world, disneyland was a disappointment. most of the staff seems to hate working there, it was hard to receive a smile. i don   t blame them, they have recently had disputes with they   re salary. the park was mostly dirty, and the bathrooms in 7 eleven were cleaner that most of the restrooms across the parks. about 40% of the rides had issues midway through. and they were unannounced closures throughout the day.one good thing was the 3 day passes that included maxpass (for fast passes) and photo pass, which were a great value. i went in trying to feel like a kid, but they brought the adult side of me. '"
            ]
          },
          "metadata": {
            "tags": []
          },
          "execution_count": 19
        }
      ]
    },
    {
      "cell_type": "code",
      "metadata": {
        "colab": {
          "base_uri": "https://localhost:8080/"
        },
        "id": "gFoFxTw9hw_s",
        "outputId": "9df6a9d5-31e6-4251-e2fe-8552d3f089b2"
      },
      "source": [
        "text=\"Visited 21 5 2014. This park is a joke, three main rides were closed in one park and one in the other and two broken which means the huge crowds made for 2 hour wait times. At $150 for a one day hopper this turned out to be an expensive crowded walk. Google Disneyland to see what a shameful joke this place is, oh...$17 to park a car. I have been to Disney Florida for 29 years so I am not naive about wait times, this park is a disgrace.\"\n",
        "text=[preprocess_text(text)]\n",
        "text_cv = pkl_count_vectorizer1.transform(text)\n",
        "print(pkl_model1.predict(text_cv))\n",
        "text=\"if walt disney is currently in a cryogenic chamber above the fire station in disneyland   s main street, he must be wanting to pull the plug. having been a fan and visitor of orlando   s walt disney world, disneyland was a disappointment. most of the staff seems to hate working there, it was hard to receive a smile. i don   t blame them, they have recently had disputes with they   re salary. the park was mostly dirty, and the bathrooms in 7 eleven were cleaner that most of the restrooms across the parks. about 40% of the rides had issues midway through. and they were unannounced closures throughout the day.one good thing was the 3 day passes that included maxpass (for fast passes) and photo pass, which were a great value. i went in trying to feel like a kid, but they brought the adult side of me.\"\n",
        "text=[preprocess_text(text)]\n",
        "text_cv = pkl_count_vectorizer1.transform(text)\n",
        "print(pkl_model1.predict(text_cv))"
      ],
      "execution_count": null,
      "outputs": [
        {
          "output_type": "stream",
          "text": [
            "[1]\n",
            "[3]\n"
          ],
          "name": "stdout"
        }
      ]
    },
    {
      "cell_type": "markdown",
      "metadata": {
        "id": "NKI_EqlLFXa7"
      },
      "source": [
        "## Deuxieme modele\n",
        "\n",
        "> Dans ce modele les branches sont séparées en 3."
      ]
    },
    {
      "cell_type": "code",
      "metadata": {
        "id": "0-6TYA2jFXa8",
        "colab": {
          "base_uri": "https://localhost:8080/"
        },
        "outputId": "b82fad9f-f4c0-4673-ea30-bd58ec790948"
      },
      "source": [
        "df['Branch'].unique()"
      ],
      "execution_count": null,
      "outputs": [
        {
          "output_type": "execute_result",
          "data": {
            "text/plain": [
              "array(['Disneyland_HongKong', 'Disneyland_California', 'Disneyland_Paris'],\n",
              "      dtype=object)"
            ]
          },
          "metadata": {
            "tags": []
          },
          "execution_count": 3
        }
      ]
    },
    {
      "cell_type": "code",
      "metadata": {
        "id": "Tf7iR_I2FXa8",
        "colab": {
          "base_uri": "https://localhost:8080/"
        },
        "outputId": "add4ec2b-6b16-4b24-8cc4-f53eeefcf097"
      },
      "source": [
        "from sklearn.feature_extraction.text import CountVectorizer\n",
        "from sklearn.linear_model import LogisticRegression\n",
        "from sklearn.ensemble import RandomForestClassifier\n",
        "from sklearn.tree import DecisionTreeClassifier\n",
        "from sklearn.model_selection import train_test_split\n",
        "\n",
        "count_vectorizers = {}\n",
        "models = {}\n",
        "#df = pd.read_csv('/Drive/MyDrive/Projet MLE/DisneylandReviews.csv', encoding='cp1252')\n",
        "#df = df.drop(['Review_ID', 'Year_Month', 'Reviewer_Location'], axis=1)\n",
        "\n",
        "index=2\n",
        "for branch in df['Branch'].unique():\n",
        "    print(branch)\n",
        "    count_vectorizer = CountVectorizer(max_features=2000)\n",
        "#     model = LogisticRegression()\n",
        "    model = RandomForestClassifier(n_estimators=20, max_depth=5)\n",
        "    \n",
        "    df_temp = df[df['Branch'] == branch]\n",
        "    X_train, X_test, y_train, y_test = train_test_split(df_temp['Review_Text'], df_temp['Rating'], random_state=123)\n",
        "\n",
        "    X_train_cv = count_vectorizer.fit_transform(X_train)\n",
        "\n",
        "    \"\"\"\n",
        "    #save count_vectorizer\n",
        "    f = open(f'{path}/count_vectorizer{index}.pkl',\"wb\")\n",
        "    pickle.dump(count_vectorizer,f)\n",
        "    f.close()\"\"\"\n",
        "    #load count_vectorizer\n",
        "    with open(f'{path}/count_vectorizer{index}.pkl', 'rb') as handle:\n",
        "      count_vectorizer = pickle.load(handle) \n",
        "\n",
        "    X_test_cv = count_vectorizer.transform(X_test)\n",
        "    \n",
        "    model.fit(X_train_cv, y_train)\n",
        "    \n",
        "    \"\"\"\n",
        "    #save model\n",
        "    f = open(f'{path}/model{index}.pkl',\"wb\")\n",
        "    pickle.dump(model,f)\n",
        "    f.close()\"\"\"\n",
        "    #load model\n",
        "    with open(f'{path}/model{index}.pkl', 'rb') as handle:\n",
        "      model = pickle.load(handle) \n",
        "    \n",
        "    print(branch, ':', model.score(X_test_cv, y_test))\n",
        "    ypred=model.predict(X_test_cv)\n",
        "    print(ypred[ypred!=5])\n",
        "    print(X_test[ypred!=5])\n",
        "    #print(X_test_cv[np.logical_and(ypred==1, y_test==1) ])\n",
        "    count_vectorizers[branch] = count_vectorizer\n",
        "    models[branch] = model\n",
        "    \n",
        "    text=\"Visited 21 5 2014. This park is a joke, three main rides were closed in one park and one in the other and two broken which means the huge crowds made for 2 hour wait times. At $150 for a one day hopper this turned out to be an expensive crowded walk. Google Disneyland to see what a shameful joke this place is, oh...$17 to park a car. I have been to Disney Florida for 29 years so I am not naive about wait times, this park is a disgrace.\"\n",
        "    text=[preprocess_text(text)]\n",
        "    text_cv = count_vectorizers[branch].transform(text)\n",
        "    print(\"predict1:\", models[branch].predict(text_cv))\n",
        "    text=\"if walt disney is currently in a cryogenic chamber above the fire station in disneyland   s main street, he must be wanting to pull the plug. having been a fan and visitor of orlando   s walt disney world, disneyland was a disappointment. most of the staff seems to hate working there, it was hard to receive a smile. i don   t blame them, they have recently had disputes with they   re salary. the park was mostly dirty, and the bathrooms in 7 eleven were cleaner that most of the restrooms across the parks. about 40% of the rides had issues midway through. and they were unannounced closures throughout the day.one good thing was the 3 day passes that included maxpass (for fast passes) and photo pass, which were a great value. i went in trying to feel like a kid, but they brought the adult side of me.\"\n",
        "    text=[preprocess_text(text)]\n",
        "    text_cv = count_vectorizers[branch].transform(text)\n",
        "    print(\"predict2:\", models[branch].predict(text_cv))\n",
        "    index += 1\n",
        "    "
      ],
      "execution_count": null,
      "outputs": [
        {
          "output_type": "stream",
          "text": [
            "Disneyland_HongKong\n",
            "Disneyland_HongKong : 0.4802494802494803\n",
            "[4 4 4 4 4 4 4 4 4 4 4 4 4]\n",
            "6765    reviews disneyland talk queue jumpers people p...\n",
            "6456    booked two day visit via klook.com. visited ja...\n",
            "9574    reading many differing reviews decided give tr...\n",
            "8623    disneyland japan compare disney hk much smalle...\n",
            "1183    18th wedding anniversary decided keep us local...\n",
            "7006    visited hong kong disneyland multiple times ev...\n",
            "5332    n't theme park bad hong kong disneyland. usual...\n",
            "8772    difficult disappointed visiting disneyland hon...\n",
            "3312    went 2 days. sunday tuesday. experience totall...\n",
            "370     castle closed street parade pricey food souven...\n",
            "9456    way back big buddha decided go here. took subw...\n",
            "9314    8 yo daughter visited disneyland hkg aug. give...\n",
            "1723    recent trip hong kong another testing user fri...\n",
            "Name: Review_Text, dtype: object\n",
            "predict1: [5]\n",
            "predict2: [5]\n",
            "Disneyland_California\n",
            "Disneyland_California : 0.6471558120362737\n",
            "[3 4]\n",
            "12236    hahaha title says all. ridiculous prices get p...\n",
            "22000    reading reviews daily since january. knew want...\n",
            "Name: Review_Text, dtype: object\n",
            "predict1: [5]\n",
            "predict2: [5]\n",
            "Disneyland_Paris\n",
            "Disneyland_Paris : 0.45305164319248825\n",
            "[4 2 3 4 4 3 3 4 4 4 3 2 4 3 4 2 4 4 4 3 4 4 3 3 4 4 2 4 4 3 4 3 4 3 4 4 4\n",
            " 4 4 4 4 4 4 4]\n",
            "41541    first trip sceptical whole disney experience p...\n",
            "39085    went disneyland paris 4 8 september. say whate...\n",
            "34238    wdw florida cautious expectations however plea...\n",
            "33144    disneyland paris park small seen bit bonus lot...\n",
            "35884    parcs magical 5 days went every attraction exc...\n",
            "30231    disneyworld florida couple times younger. visi...\n",
            "38813    got rer train paris easy ride. took hour train...\n",
            "34171    visited disneyland paris many years ago rememb...\n",
            "42590    found several reviews appear avoid nitty gritt...\n",
            "42270    came back disneyland paris. stayed new york ho...\n",
            "38301    good startwe stayed davy crocket ranch 15 min ...\n",
            "39051    lifelong disney fan living europe excited brin...\n",
            "35824    say compared florida disney resort disneyland ...\n",
            "36826    came feb half term. never again. like previous...\n",
            "42363    good time dlp last week however disappointment...\n",
            "36988    fourth visit disneyland paris previously 2001 ...\n",
            "29353    people asked disneyland paris compare disney w...\n",
            "37628    booked tickets dp day trip family holiday pari...\n",
            "33433    visited family 4 13 9.year old. busy busy time...\n",
            "40254    visited disneyland florida prepared fact resor...\n",
            "30520    recently visited easter 2018 park 25th anniver...\n",
            "41286    visited florida twice disneyland paris twice k...\n",
            "41104    visited disney world orlando numerous times ex...\n",
            "29230    disney florida high hopes unfortunately live e...\n",
            "41668    good points : went disneyland paris end novemb...\n",
            "41077    live orlando got married walt disney world wen...\n",
            "39288    experience disneyland paris.first would like p...\n",
            "29174    done disneyland florida 1981 6 yr old intentio...\n",
            "42202    disneyland paris monday august. whole experien...\n",
            "35330    husband travelled euro disney called back 2006...\n",
            "36507    disneyland park paris compares well florida co...\n",
            "40454    took son disneyland paris two days ago. wanted...\n",
            "30943    came disney 3 nights loved every minute. chris...\n",
            "42040    never disney park thinking first visit n't rea...\n",
            "39031    visited park 11 14 sept 2013. weather cloudy t...\n",
            "41098    recently spent 5 night break disneyland paris ...\n",
            "40148    third visit disneyland park 7 years nothing ch...\n",
            "29259    would like share disappointing experience disn...\n",
            "29424    sure expect last foray disney teenager florida...\n",
            "29586    rides great park looked beautifully decorated ...\n",
            "41242    well start great 3 days would advise children ...\n",
            "41216    four days disney thought brilliant.the way set...\n",
            "42402    returned 3nght 4 day stay dlp great time.we st...\n",
            "42614    returned 2 night trip disneyland paris via eur...\n",
            "Name: Review_Text, dtype: object\n",
            "predict1: [5]\n",
            "predict2: [5]\n"
          ],
          "name": "stdout"
        }
      ]
    },
    {
      "cell_type": "code",
      "metadata": {
        "colab": {
          "base_uri": "https://localhost:8080/",
          "height": 86
        },
        "id": "Gpf3_feJSTdO",
        "outputId": "862adc48-2732-42f0-9b88-4f0049d05f09"
      },
      "source": [
        "df_original.iloc[8623]['Review_Text']"
      ],
      "execution_count": null,
      "outputs": [
        {
          "output_type": "execute_result",
          "data": {
            "application/vnd.google.colaboratory.intrinsic+json": {
              "type": "string"
            },
            "text/plain": [
              "\"I've to been to Disneyland Japan, and compare to this, Disney HK is much smaller, especially the Sleeping Beauty Castle. I visited during weekdays but still the crowd is so many. Mostly the people are from mainland China. Maybe this is summer holiday and the China crowd came. I'm not sure. Very hot and humid during this time of the year. I will go again only if   the place is expanding (there is this new attraction call 'mystic' coming soon next to Toy Story land ; and will only go during cooler season such as autumn or end on winter. Overall, good place to bring your kids.\""
            ]
          },
          "metadata": {
            "tags": []
          },
          "execution_count": 37
        }
      ]
    },
    {
      "cell_type": "code",
      "metadata": {
        "colab": {
          "base_uri": "https://localhost:8080/",
          "height": 120
        },
        "id": "eSwZ_GKWThPN",
        "outputId": "f5fce448-a374-4911-c7ec-f3a001addf2f"
      },
      "source": [
        "df_original.iloc[12236]['Review_Text']"
      ],
      "execution_count": null,
      "outputs": [
        {
          "output_type": "execute_result",
          "data": {
            "application/vnd.google.colaboratory.intrinsic+json": {
              "type": "string"
            },
            "text/plain": [
              "\"Hahaha, title says it all. Ridiculous prices, but do you get what you pay for? Eh, maybe yes, maybe no. I went alone so I could do what I wanted to do. This is the first time I've actually paid to go because usually I get free tickets by winning them or knowing people who work there who need to use their extra tickets, and go with family. Prices are ridiculous, but I knew that before going. This is technically a review for both Disney parks. Cons1) Ticket lines are sooooooooooo slow. There were only a couple of people ahead of me and it took forever for my turn. Then I went up, told the lady exactly what I wanted, had my cash out, and it still took her forever. A snail could have done it faster.2) Walking in the gate with the ticket you just bought is just as slow and painful. They take pictures of you now so if you buy a multi day ticket you can't sell it off to someone else (fine, whatever, I get it) but it just makes the lines horrendously long and slow just to get in. The people behind me complained,  They should have a line for season passholders.  I don't have a season pass, obviously, but he's right. Why make them wait through the photo sessions?3) No real discounts for SoCal residents. If you want a one day pass you don't really get a discount. Discounts maybe for two or three days, but I don't need two or three days, and quite frankly if I used that I'd have to drive home and back and one drive up to Anaheim every few months in the crummy CA traffic is more than enough. If I stayed in Anaheim then I'd have to pay extra for a hotel, so there really wouldn't be savings.4) Soooooooooo many people. They should cut off the number somewhere, but obviously they won't because of $$$$$$$$$. Oh, and this wasn't considered a  Peak Day . I'd hate to see how many people are there on those days. 5) Single Ply Toilet Paper? That seriously wasn't a joke. Why do you pay so much for tickets and then use the restrooms to find out they only buy single ply toilet paper? Cheapskates. (Yeah, I can't believe I even had that thought, but I did.)6) Disney is great at line deception. You see the time, then look at the line and think,  Oh, that's not so bad.  Then you get in line and it just goes back and forth and back and forth and around and down and up and in places you didn't even know existed getting into the line..... Yikes. It's amazing how well they can hide a line of a gazillion people.7) Dirty. Dirty. Dirty. Usually Disney is pretty clean, but this time it was just gross. Food all over the ground. Almost squished my feet in several discarded food items including popcorn, ice cream sandwiches, and who knows what else. And there were random things lying around in ride lines *cough cough* tampon *cough cough*. EW. 8) People start lining up for the parade like two hours early and then there are just people in the way. Everywhere. Oh, and for those of use pathetic souls there by ourselves, who might want to go on rides that normally have lines out the wazoo with parents and little kids in Fantasyland.... Parade time might be a good time to do that except, oh yeah, they shut everything down in Fantasyland at that time. Now I'm not sure of the real reasoning behind this because at this point, I left and went to Downtown Disney until after the parade and fireworks crowd cleared out, but yeah, that sucks. I can't for the life of me figure out why the ride for the Peter Pan ride is so massively long, even when I've gone to  night parties  with radio stations. Fourth or fifth time here and FINALLY got on it   with a  Short  time of 30 mins, and this was at 11:00pm. 9) People are rude as can be. Cutting in line, trying to ram you with their stroller if you aren't moving fast enough (trust me, I move as fast as possible, but can't do that if there are a million people in the way). Just randomly stop in the middle of walkways to check their phone or map. 10) Disney used to have lines down to a science. What happened? Fast pass lines longer than the regular line. People seemed to be having trouble having their phones scan using that option for their fast passes, so that slowed things down. Employees urging people to get fast passes for that CURRENT TIME so the people already in line have to wait longer (why??). Single rider line over on Screamin' is a joke (Universal does this very well, Disney does NOT. Maybe it's done poorly on purpose?) 11) There are issues with the lines in the restaurants. The main one I went to was Rockett's whatever over in Tomorrowland. Choices of Salad, Pasta, or Pizza. The employee flat out said Salad and Pasta were one line, Pizza was separate. Then he disappeared, so while the rest of us waited for pasta in a non moving salad line, people were cutting ahead of us and getting grumpy behind us. Food didn't appear to be coming out, and the line was at a stand still. 12) Parking. Due to the number of people you park all the way out in the Timbuktu Lot, and then you get the fun of waiting in a long line (for the shuttles)   before you even get to the parks!13) Star WarsPros1) Long Hours. The day I went the hours at DL were 8am to 12am (till 10pm at CA). I had hoped to get there earlier, but to avoid the worst of the traffic on the expressways, I didn't leave until about 8:30am and got there by about 10:15am. This actually worked out better for me. I ended up staying there later that evening and I got in a good number of rides AFTER the fireworks crowd left. If I had gotten there earlier, I probably would have left the parks earlier and not come back. 2) Due to the close Proximity of the parks, I was able to go to DL, do a bunch of stuff, head over to CA and do many things I wanted to do, then head back to DL and get in some more fun. I was also able to  escape  for a bit and grab dinner at Downtown Disney, then head back yet again. 3) Was happy with what I managed to fit into my day. I fit in my favorites. Did a bunch of extras. Saw some of those street shows. Got to both parks. And this was with a million people there. If you're able to use the Fast Passes properly (I only used one all day, by the way   and didn't pay extra for whatever the cell phone thing is, since I don't have a cell phone) and pay attention to the slow areas you'll get in quite a bit. If you go on an off day you can probably squeeze a lot more into a one day ticket. 4) Employees   All were nice and super helpful, no matter how stupid my question. Hey, it's Disney!5) Free Water   Managed to get through the day buying only one drink. With my meals and even the ice cream I had, I just got a nice cup of ice water. At the right places they'll give you nice big cups too, rather than those dinky little things, to stay cool and hydrated! And trust me, on a mid summer day in SoCal, you'll appreciate it.6) First Aid area was a lifesaver. I had a massive headache I had been battling all day and despite drinking tons of water and doing everything I knew how to get rid of it without taking anything, I finally decided to get something so I could fully enjoy the rest of the day. I thought it might take awhile but I simply asked if they had anything, wrote down my name, and they handed me a two pack of some sort of headache relieving awesomeness. Easy peasy. Overall it was a decent day, but I think I'll stick with my original belief that it's only best to go to places like this in the off season. It was good for the day it was, but could have been a lot less stressful and lot more enjoyable when it's not as packed.\""
            ]
          },
          "metadata": {
            "tags": []
          },
          "execution_count": 40
        }
      ]
    },
    {
      "cell_type": "code",
      "metadata": {
        "colab": {
          "base_uri": "https://localhost:8080/",
          "height": 120
        },
        "id": "xjL9SDb4Us9j",
        "outputId": "3aefe198-1f29-486a-ea5d-8ad2aaa915cd"
      },
      "source": [
        "df_original.iloc[39085]['Review_Text']"
      ],
      "execution_count": null,
      "outputs": [
        {
          "output_type": "execute_result",
          "data": {
            "application/vnd.google.colaboratory.intrinsic+json": {
              "type": "string"
            },
            "text/plain": [
              "\"Went to Disneyland Paris, 4 8 September. All I can say is that whatever price you have budgeted for this holiday, treble it at least and that is how much money you are likely to spend.My advice is save up and go to Florida. The food and drink are way over priced, all the fast food is the same. The Queues are ridiculous, 30 minutes every time you want to buy a drink, 2.59 euros for a small cup of tea.The staff have no idea of what customer service is, for example at Casey's Corner, I wanted 5 teas, Queued for ages to be told they had no milk but I could have hot milk in my tea and then was told I would have to pay for the hot milk on top of the 2.59 for the tea, what a joke, I told them to shove it.The Americans fall over themselves backwards to help,the Disney staff need to get some serious tips on customer service. 95% don't crack a smile and couldn't care less if you enjoy your day or not, as long as you are paying the money that's all they seem bothered about.The Queues for rides are terrible, especially weekends, 120 minutes for the main rides, half the time the fast passes were not working. Every day at least one of the main rides wasn't working.Than goodness we had been there for two days before else would have only managed 3 rides in the day.They let far too many people in for the size of the park and the amount of staff they employ.The pushing in, has to be seen to be believed. The Europeans have no manners at all, I can't believe I had forgotten this fact.Was in one Queue and up to 20 people pushed in before we got to the ride, my daughter spoke to one Spanish family and asked them to go to the back of the queue, only for the father to shout shut up in my daughter's face. Very intimidating and very rude.The staff ignore all the pushing and shoving in the queues, they have no queue management at all.I gave the park two stars for the park itself and the late night show and even that was a bun fight at night. People shoving and pushing to get a position to see the castle. On the Saturday night, a bunch of French teens were throwing their rubbish at an English couple standing at the front and kept shouting out are you English and even though French staff were standing around the edge, they did nothing. This was the same every evening, as every night there were nearly fights amongst the crowd but staff always turned a blind eye.Six of us went to Disneyland Paris and none of us will go back. Give me Florida any day and in the end, the food, drink, and merchandise is so much cheaper.\""
            ]
          },
          "metadata": {
            "tags": []
          },
          "execution_count": 42
        }
      ]
    },
    {
      "cell_type": "markdown",
      "metadata": {
        "id": "pbg32xqOFXa9"
      },
      "source": [
        "## Objectifs\n",
        "\n",
        "> L'objectif de ce projet est de déployer les modèles créés plus tôt. Attention, en production, les modèles ne devront pas être relancés.\n",
        ">\n",
        "> ### L'API\n",
        ">\n",
        "> On va dans un premier construire une API avec Flask ou FastAPI. Cette API devra permettre d'interroger les différents modèles. Les utilisateurs pourront aussi interroger l'API pour accéder aux performances de l'algorithme sur les jeux de tests. Enfin il faut permettre aux utilisateurs d'utiliser une identification basique. (On pourra utiliser le `header` `Authentication` et encoder `username:password` en base 64).\n",
        "> On pourra utiliser la liste d'utilisateurs/mots de passe suivante:\n",
        "> - alice: wonderland\n",
        "> - bob: builder\n",
        "> - clementine: mandarine\n",
        "> - ... \n",
        ">\n",
        "> ### Le container\n",
        ">\n",
        "> Il s'agira ici de créer un container Docker pour déployer facilement l'API. On portera une attention particulière aux librairies Python à installer ainsi qu'à leurs différentes versions. \n",
        ">\n",
        "> ### Les tests\n",
        ">\n",
        "> Une série de tests devra être créée pour tester l'API contenairisée. On pourra pour cela créé un fichier `docker-compose.yml` en s'inspirant de ce qui a été fait dans l'évaluation de Docker. \n",
        ">\n",
        "> ### Kubernetes\n",
        ">\n",
        "> On pourra enfin créer un fichier de déploiement ainsi qu'un Service et un Ingress avec Kubernetes pour permettre le déploiement de l'API sur au moins 3 Pods.\n",
        "\n",
        "## Rendus\n",
        "\n",
        "> Les attendus sont un fichier pdf contenant des précisions sur les fichiers, sur les différentes étapes ainsi que sur les choix effectués. \n",
        "> On devra aussi rendre un repo Github sur lequel seront les fichiers suivants:\n",
        "> - fichier source de l'API\n",
        "> - Dockerfile de l'API\n",
        "> - dans un dossier l'ensemble des fichiers utilisés pour créer les tests\n",
        "> - les fichiers de déploiements de Kubernetes\n",
        "> - tout autre fichier ayant été utilisés pour faire ce projet."
      ]
    },
    {
      "cell_type": "code",
      "metadata": {
        "id": "ZrZjjFVzFXa-"
      },
      "source": [
        ""
      ],
      "execution_count": null,
      "outputs": []
    }
  ]
}